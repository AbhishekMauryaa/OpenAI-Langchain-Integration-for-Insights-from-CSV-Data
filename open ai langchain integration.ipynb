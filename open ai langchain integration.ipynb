{
 "cells": [
  {
   "cell_type": "code",
   "execution_count": 148,
   "id": "0e7455aa-bdda-4750-9a41-042e60c3e5f4",
   "metadata": {},
   "outputs": [],
   "source": [
    "import os\n",
    "os.environ[\"OPENAI_API_KEY\"]='ur key here'\n"
   ]
  },
  {
   "cell_type": "code",
   "execution_count": 156,
   "id": "8197448c-74ca-4ac9-989f-3dc438e5a995",
   "metadata": {},
   "outputs": [],
   "source": [
    "import pandas as pd\n",
    "df=pd.read_csv(\"reviews.csv\")"
   ]
  },
  {
   "cell_type": "code",
   "execution_count": 157,
   "id": "f56c4eaf-0333-4219-9cf1-34574129bacd",
   "metadata": {},
   "outputs": [],
   "source": [
    "from langchain_experimental.agents.agent_toolkits import create_csv_agent\n",
    "from langchain_openai import ChatOpenAI\n",
    "llm=ChatOpenAI(temperature=1.0)"
   ]
  },
  {
   "cell_type": "code",
   "execution_count": 158,
   "id": "558356bf-2458-477b-b4f8-99ed64ed5211",
   "metadata": {},
   "outputs": [],
   "source": [
    "agent_executer=create_csv_agent(llm,'reviews.csv')"
   ]
  },
  {
   "cell_type": "code",
   "execution_count": 159,
   "id": "2016fe46-42f0-48c1-b02c-ebe6e98ad5f8",
   "metadata": {},
   "outputs": [
    {
     "name": "stdout",
     "output_type": "stream",
     "text": [
      "No of rows: 878\n"
     ]
    }
   ],
   "source": [
    "print(\"No of rows:\",len(df.index) )"
   ]
  },
  {
   "cell_type": "code",
   "execution_count": 160,
   "id": "01524b5a-d272-4551-94d6-103a1d8bfb75",
   "metadata": {},
   "outputs": [
    {
     "name": "stdout",
     "output_type": "stream",
     "text": [
      "No of unique PIDs 28\n"
     ]
    }
   ],
   "source": [
    "print(\"No of unique PIDs\",df['PID'].nunique())"
   ]
  },
  {
   "cell_type": "code",
   "execution_count": 142,
   "id": "4787d665-5403-46f7-b90a-bb4d16117746",
   "metadata": {},
   "outputs": [
    {
     "data": {
      "text/plain": [
       "{'input': 'give me Parent Listing wise reviews count in new line?',\n",
       " 'output': 'Parent Listing\\nAereo Plus             258\\nAery                    15\\nCharisma Plus          192\\nMarvo Anti-Mosquito     21\\nOptima Mini             34\\nSilencio Mini          198\\nSuperb                 122\\nSuperb Neo               2\\nSuperia                  8\\nSuperia SP01             1\\nSuperia SP02            16\\nSuperia SP04             8\\nSuperia SP05             3'}"
      ]
     },
     "execution_count": 142,
     "metadata": {},
     "output_type": "execute_result"
    }
   ],
   "source": [
    "agent_executer.invoke(\"give me Parent Listing wise reviews count in new line?\")\n"
   ]
  },
  {
   "cell_type": "code",
   "execution_count": 150,
   "id": "effaa165-d7cc-41e5-8c54-9a85ed540a61",
   "metadata": {},
   "outputs": [
    {
     "data": {
      "text/plain": [
       "{'input': 'in ratings column for -if rating 4, 5 it is positive ratings and 3 is neutral and 1,2 is negative ratings give me count of them?',\n",
       " 'output': 'There are 496 positive ratings (5), 151 positive ratings (4), 74 neutral ratings (3), 38 negative ratings (2), and 119 negative ratings (1) in the dataframe.'}"
      ]
     },
     "execution_count": 150,
     "metadata": {},
     "output_type": "execute_result"
    }
   ],
   "source": [
    "agent_executer.invoke(\"in ratings column for -if rating 4, 5 it is positive ratings and 3 is neutral and 1,2 is negative ratings give me count of them?\")"
   ]
  },
  {
   "cell_type": "code",
   "execution_count": 151,
   "id": "ee8fb439-653a-44a4-8097-23bcfa5a921a",
   "metadata": {},
   "outputs": [
    {
     "data": {
      "text/plain": [
       "{'input': 'give me rating count of all ratings?',\n",
       " 'output': 'Rating 5 has 496 counts, rating 4 has 151 counts, rating 1 has 119 counts, rating 3 has 74 counts, and rating 2 has 38 counts.'}"
      ]
     },
     "execution_count": 151,
     "metadata": {},
     "output_type": "execute_result"
    }
   ],
   "source": [
    "agent_executer.invoke(\"give me rating count of all ratings?\")"
   ]
  },
  {
   "cell_type": "code",
   "execution_count": 81,
   "id": "79cabc80-1f4b-4b3e-bee4-8b52e54fcce3",
   "metadata": {},
   "outputs": [
    {
     "name": "stdout",
     "output_type": "stream",
     "text": [
      "\n",
      "\n",
      "\u001b[1m> Entering new AgentExecutor chain...\u001b[0m\n",
      "\u001b[32;1m\u001b[1;3mThought: We need to categorize the ratings into positive, negative, and neutral based on the values provided. Then, we can group the data by unique Parent Listing and count the occurrences of each category.\n",
      "Action: python_repl_ast\n",
      "Action Input: df['Sentiment'] = df['Rating'].apply(lambda x: 'Positive' if x in [4, 5] else 'Neutral' if x == 3 else 'Negative')\u001b[0m\u001b[36;1m\u001b[1;3m\u001b[0m\u001b[32;1m\u001b[1;3mWe have categorized the ratings into sentiments based on the values.\n",
      "Action: python_repl_ast\n",
      "Action Input: df_grouped = df.groupby(['Parent Listing', 'Sentiment']).size().unstack(fill_value=0)\u001b[0m\u001b[36;1m\u001b[1;3m\u001b[0m\u001b[32;1m\u001b[1;3mWe have grouped the data by unique Parent Listing and sentiment, and counted the occurrences of each sentiment.\n",
      "Action: python_repl_ast\n",
      "Action Input: print(df_grouped)\u001b[0m\u001b[36;1m\u001b[1;3mSentiment            Negative  Neutral  Positive\n",
      "Parent Listing                                  \n",
      "Aereo Plus                 51       27       180\n",
      "Aery                        2        0        13\n",
      "Charisma Plus              35       35       122\n",
      "Marvo Anti-Mosquito        10        2         9\n",
      "Optima Mini                11        3        20\n",
      "Silencio Mini               0        0       198\n",
      "Superb                     44        3        75\n",
      "Superb Neo                  0        0         2\n",
      "Superia                     2        0         6\n",
      "Superia SP01                0        0         1\n",
      "Superia SP02                0        4        12\n",
      "Superia SP04                0        0         8\n",
      "Superia SP05                2        0         1\n",
      "\u001b[0m\u001b[32;1m\u001b[1;3mI now know the final answer\n",
      "\n",
      "Final Answer: The count of positive, negative, and neutral sentiments for each unique Parent Listing is shown in the table above.\u001b[0m\n",
      "\n",
      "\u001b[1m> Finished chain.\u001b[0m\n"
     ]
    },
    {
     "data": {
      "text/plain": [
       "{'input': 'in ratings column for -if rating 4, 5 it is positive ratings and 3 is neutral and 1,2 is negative ratings give me count of positive ,negative and neutral for each unique Parent Listing? in oreder wise iin tabular form',\n",
       " 'output': 'The count of positive, negative, and neutral sentiments for each unique Parent Listing is shown in the table above.'}"
      ]
     },
     "execution_count": 81,
     "metadata": {},
     "output_type": "execute_result"
    }
   ],
   "source": [
    "agent_executer.invoke(\"in ratings column for -if rating 4, 5 it is positive ratings and 3 is neutral and 1,2 is negative ratings give me count of positive ,negative and neutral for each unique Parent Listing? in oreder wise iin tabular form\")"
   ]
  },
  {
   "cell_type": "code",
   "execution_count": 152,
   "id": "7045674d-9e21-417f-b89d-f6eb671e3e73",
   "metadata": {},
   "outputs": [
    {
     "data": {
      "text/plain": [
       "{'input': 'give python code for line graph where x axis has date which has month and year only, y axis has sum of positive reviws , sum of negative review and sum total reviews',\n",
       " 'output': 'The line graph has been created with the x-axis representing the month and year, and the y-axis showing the sum of positive reviews, sum of negative reviews, and the total reviews.'}"
      ]
     },
     "execution_count": 152,
     "metadata": {},
     "output_type": "execute_result"
    },
    {
     "data": {
      "image/png": "[encoded data removed]",
      "text/plain": [
       "<Figure size 640x480 with 1 Axes>"
      ]
     },
     "metadata": {},
     "output_type": "display_data"
    }
   ],
   "source": [
    "agent_executer.invoke(\"give python code for line graph where x axis has date which has month and year only, y axis has sum of positive reviws , sum of negative review and sum total reviews\")"
   ]
  },
  {
   "cell_type": "code",
   "execution_count": 161,
   "id": "d59104e4-f3c8-4de8-8ae2-5797b8334c82",
   "metadata": {},
   "outputs": [
    {
     "data": {
      "text/plain": [
       "{'input': 'make wordcloud for both positive and negative ratings separtivly ?',\n",
       " 'output': 'I should find an alternate approach to extract positive reviews and combine them into a single string.'}"
      ]
     },
     "execution_count": 161,
     "metadata": {},
     "output_type": "execute_result"
    }
   ],
   "source": [
    "agent_executer.invoke(\"make wordcloud for both positive and negative ratings separtivly ?\")"
   ]
  },
  {
   "cell_type": "code",
   "execution_count": 162,
   "id": "06158f57-825c-4dee-94b8-c08652fecce5",
   "metadata": {},
   "outputs": [
    {
     "data": {
      "text/plain": [
       "{'input': 'provide me all other insights which you can generate fromm the data',\n",
       " 'output': 'Further insights from the data include unique value counts for each column, summary statistics for the numeric columns, and potential additional analysis on reviews and locations.'}"
      ]
     },
     "execution_count": 162,
     "metadata": {},
     "output_type": "execute_result"
    }
   ],
   "source": [
    "agent_executer.invoke(\"provide me all other insights which you can generate fromm the data\")"
   ]
  }
 ],
 "metadata": {
  "kernelspec": {
   "display_name": "Python 3",
   "language": "python",
   "name": "python3"
  },
  "language_info": {
   "codemirror_mode": {
    "name": "ipython",
    "version": 3
   },
   "file_extension": ".py",
   "mimetype": "text/x-python",
   "name": "python",
   "nbconvert_exporter": "python",
   "pygments_lexer": "ipython3",
   "version": "3.11.7"
  }
 },
 "nbformat": 4,
 "nbformat_minor": 5
}
